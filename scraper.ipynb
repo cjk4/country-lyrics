{
 "cells": [
  {
   "cell_type": "code",
   "execution_count": 64,
   "metadata": {},
   "outputs": [],
   "source": [
    "import requests\n",
    "import json\n",
    "import pandas as pd\n",
    "from bs4 import BeautifulSoup as bs\n",
    "import os\n",
    "import re\n",
    "from api_keys import *"
   ]
  },
  {
   "cell_type": "code",
   "execution_count": 62,
   "metadata": {},
   "outputs": [
    {
     "name": "stdout",
     "output_type": "stream",
     "text": [
      "Found 20 songs by luke bryan\n"
     ]
    },
    {
     "data": {
      "text/plain": [
       "['https://genius.com/Luke-bryan-most-people-are-good-lyrics',\n",
       " 'https://genius.com/Luke-bryan-rain-is-a-good-thing-lyrics',\n",
       " 'https://genius.com/Luke-bryan-thats-my-kind-of-night-lyrics',\n",
       " 'https://genius.com/Luke-bryan-what-she-wants-tonight-lyrics',\n",
       " 'https://genius.com/Luke-bryan-play-it-again-lyrics',\n",
       " 'https://genius.com/Luke-bryan-light-it-up-lyrics',\n",
       " 'https://genius.com/Luke-bryan-country-girl-shake-it-for-me-lyrics',\n",
       " 'https://genius.com/Luke-bryan-strip-it-down-lyrics',\n",
       " 'https://genius.com/Luke-bryan-drunk-on-you-lyrics',\n",
       " 'https://genius.com/Luke-bryan-huntin-fishin-and-lovin-every-day-lyrics',\n",
       " 'https://genius.com/Luke-bryan-home-alone-tonight-lyrics',\n",
       " 'https://genius.com/Luke-bryan-fast-lyrics',\n",
       " 'https://genius.com/Luke-bryan-drink-a-beer-lyrics',\n",
       " 'https://genius.com/Luke-bryan-build-me-a-daddy-lyrics',\n",
       " 'https://genius.com/Luke-bryan-knockin-boots-lyrics',\n",
       " 'https://genius.com/Luke-bryan-kick-the-dust-up-lyrics',\n",
       " 'https://genius.com/Luke-bryan-what-makes-you-country-lyrics',\n",
       " 'https://genius.com/Luke-bryan-sunrise-sunburn-sunset-lyrics',\n",
       " 'https://genius.com/Luke-bryan-one-margarita-lyrics',\n",
       " 'https://genius.com/Luke-bryan-to-the-moon-and-back-lyrics']"
      ]
     },
     "execution_count": 62,
     "metadata": {},
     "output_type": "execute_result"
    }
   ],
   "source": [
    "# get artist object from genius api\n",
    "def request_artist_info(artist_name, page):\n",
    "    base_url = 'https://api.genius.com'\n",
    "    headers = {'Authorization': 'Bearer ' + GENIUS_API_TOKEN}\n",
    "    search_url = base_url + '/search?per_page=10&page=' + str(page)\n",
    "    data = {'q': artist_name}\n",
    "    response = requests.get(search_url, data=data, headers=headers)\n",
    "    return response\n",
    "\n",
    "def request_song_url(artist_name, song_cap):\n",
    "    page = 1\n",
    "    songs = []\n",
    "    while True:\n",
    "        response = request_artist_info(artist_name, page)\n",
    "        json = response.json()\n",
    "        song_info = []\n",
    "        for hit in json['response']['hits']:\n",
    "            if artist_name.lower() in hit['result']['primary_artist']['name'].lower():\n",
    "                song_info.append(hit)\n",
    "        for song in song_info:\n",
    "            if (len(songs) < song_cap):\n",
    "                url = song['result']['url']\n",
    "                songs.append(url)\n",
    "            \n",
    "        if (len(songs) == song_cap):\n",
    "            break\n",
    "        else:\n",
    "            page += 1\n",
    "        \n",
    "    print('Found {} songs by {}'.format(len(songs), artist_name))\n",
    "    return songs\n",
    "\n",
    "request_song_url('luke bryan', 20)"
   ]
  },
  {
   "cell_type": "code",
   "execution_count": 51,
   "metadata": {},
   "outputs": [],
   "source": [
    "def get_attrs(html):\n",
    "  script = html.find('script', string=re.compile(r'var targeting_list ='))\n",
    "  if script:\n",
    "    script_string = script.string\n",
    "    match = re.search(r'var targeting_list = (\\[.*?\\]);', script_string)\n",
    "    if match:\n",
    "      json_string = match.group(1)\n",
    "      targeting_list = json.loads(json_string) # dict\n",
    "    else:\n",
    "      print('no targeting_list')\n",
    "  else:\n",
    "    print('script not found')\n",
    "  targeting_list = {item['name']: item['values'] for item in targeting_list}\n",
    "  return targeting_list"
   ]
  },
  {
   "cell_type": "code",
   "execution_count": 67,
   "metadata": {},
   "outputs": [
    {
     "data": {
      "text/plain": [
       "('Sunrise Sunburn Sunset',\n",
       " 'country',\n",
       " 'Luke Bryan',\n",
       " '2017',\n",
       " '21347',\n",
       " \" Your daddy had a lakehouse He had me paint it that summer sophomore year Said I could stay for free A couple buddies, a couple weeks You rode in in a little red Honda And headed straight for the pier Tank top and cutoff jeans A little PacSun underneath Who knew it was 'bout to be  Sunrise, sunburn, sunset, repeat Moonlight, all night, crashing into me Nothing will ever be easy as you and me Tangled up with nowhere to be Just sunrise, sunburn, sunset, repeat Sunrise, sunburn, sunset, repeat, ayy  I turned those shutters the color of your eyes 'Til the day turned into night And took turns with a jar Turn that boat dock into a bar And then we passed the guitar around the fire to each other And watched all of our friends pair off with one another But we felt like the stars we were under And everybody knew that that was our summer\")"
      ]
     },
     "execution_count": 67,
     "metadata": {},
     "output_type": "execute_result"
    }
   ],
   "source": [
    "def scrape(url):\n",
    "    page = requests.get(url)\n",
    "    html = bs(page.text, 'html.parser')\n",
    "\n",
    "    targeting_list = get_attrs(html)\n",
    "    title = targeting_list['song_title'][0]\n",
    "    tag = targeting_list['primary_tag'][0]\n",
    "    artist = targeting_list['artist_name'][0]\n",
    "    year = targeting_list['release_year'][0]\n",
    "    views = targeting_list['pageviews'][0]\n",
    "\n",
    "    lyrics = html.find(attrs={\"data-lyrics-container\": \"true\"}).get_text(' ')\n",
    "    lyrics = os.linesep.join([s for s in lyrics.splitlines() if s])\n",
    "    lyrics = re.sub(r'[\\(\\[].*?[\\)\\]]', '', lyrics)\n",
    "    return title, tag, artist, year, views, lyrics\n",
    "\n",
    "scrape('https://genius.com/Luke-bryan-sunrise-sunburn-sunset-lyrics')"
   ]
  },
  {
   "cell_type": "code",
   "execution_count": 69,
   "metadata": {},
   "outputs": [
    {
     "name": "stdout",
     "output_type": "stream",
     "text": [
      "Found 20 songs by luke bryan\n"
     ]
    },
    {
     "data": {
      "text/html": [
       "<div>\n",
       "<style scoped>\n",
       "    .dataframe tbody tr th:only-of-type {\n",
       "        vertical-align: middle;\n",
       "    }\n",
       "\n",
       "    .dataframe tbody tr th {\n",
       "        vertical-align: top;\n",
       "    }\n",
       "\n",
       "    .dataframe thead th {\n",
       "        text-align: right;\n",
       "    }\n",
       "</style>\n",
       "<table border=\"1\" class=\"dataframe\">\n",
       "  <thead>\n",
       "    <tr style=\"text-align: right;\">\n",
       "      <th></th>\n",
       "      <th>title</th>\n",
       "      <th>tag</th>\n",
       "      <th>artist</th>\n",
       "      <th>year</th>\n",
       "      <th>views</th>\n",
       "      <th>lyrics</th>\n",
       "    </tr>\n",
       "  </thead>\n",
       "  <tbody>\n",
       "    <tr>\n",
       "      <th>0</th>\n",
       "      <td>Most People Are Good</td>\n",
       "      <td>country</td>\n",
       "      <td>Luke Bryan</td>\n",
       "      <td>2017</td>\n",
       "      <td>125629</td>\n",
       "      <td>I believe kids oughta stay kids as long as th...</td>\n",
       "    </tr>\n",
       "    <tr>\n",
       "      <th>1</th>\n",
       "      <td>Rain is a Good Thing</td>\n",
       "      <td>country</td>\n",
       "      <td>Luke Bryan</td>\n",
       "      <td>2009</td>\n",
       "      <td>89234</td>\n",
       "      <td>My daddy spent his life lookin' up at the sky...</td>\n",
       "    </tr>\n",
       "    <tr>\n",
       "      <th>2</th>\n",
       "      <td>Thats My Kind of Night</td>\n",
       "      <td>country</td>\n",
       "      <td>Luke Bryan</td>\n",
       "      <td>2013</td>\n",
       "      <td>75796</td>\n",
       "      <td>I got that real good, feel good stuff Up unde...</td>\n",
       "    </tr>\n",
       "    <tr>\n",
       "      <th>3</th>\n",
       "      <td>What She Wants Tonight</td>\n",
       "      <td>country</td>\n",
       "      <td>Luke Bryan</td>\n",
       "      <td>2019</td>\n",
       "      <td>79121</td>\n",
       "      <td>She walks up, velvet rope unhooks She snaps h...</td>\n",
       "    </tr>\n",
       "    <tr>\n",
       "      <th>4</th>\n",
       "      <td>Play It Again</td>\n",
       "      <td>country</td>\n",
       "      <td>Luke Bryan</td>\n",
       "      <td>2014</td>\n",
       "      <td>67162</td>\n",
       "      <td>She was sittin' all alone over on the tailgat...</td>\n",
       "    </tr>\n",
       "  </tbody>\n",
       "</table>\n",
       "</div>"
      ],
      "text/plain": [
       "                    title      tag      artist  year   views  \\\n",
       "0    Most People Are Good  country  Luke Bryan  2017  125629   \n",
       "1    Rain is a Good Thing  country  Luke Bryan  2009   89234   \n",
       "2  Thats My Kind of Night  country  Luke Bryan  2013   75796   \n",
       "3  What She Wants Tonight  country  Luke Bryan  2019   79121   \n",
       "4           Play It Again  country  Luke Bryan  2014   67162   \n",
       "\n",
       "                                              lyrics  \n",
       "0   I believe kids oughta stay kids as long as th...  \n",
       "1   My daddy spent his life lookin' up at the sky...  \n",
       "2   I got that real good, feel good stuff Up unde...  \n",
       "3   She walks up, velvet rope unhooks She snaps h...  \n",
       "4   She was sittin' all alone over on the tailgat...  "
      ]
     },
     "execution_count": 69,
     "metadata": {},
     "output_type": "execute_result"
    }
   ],
   "source": [
    "df = pd.DataFrame(columns=['title', 'tag', 'artist', 'year', 'views', 'lyrics'])\n",
    "titles = []\n",
    "tags = []\n",
    "artists = []\n",
    "years = []\n",
    "views = []\n",
    "lyrics = []\n",
    "for url in request_song_url('luke bryan', 20):\n",
    "    title, tag, artist, year, view, lyric = scrape(url)\n",
    "    titles.append(title)\n",
    "    tags.append(tag)\n",
    "    artists.append(artist)\n",
    "    years.append(year)\n",
    "    views.append(view)\n",
    "    lyrics.append(lyric)\n",
    "df['title'] = titles\n",
    "df['tag'] = tags\n",
    "df['artist'] = artists\n",
    "df['year'] = years\n",
    "df['views'] = views\n",
    "df['lyrics'] = lyrics\n",
    "df.head()"
   ]
  },
  {
   "cell_type": "code",
   "execution_count": null,
   "metadata": {},
   "outputs": [],
   "source": []
  }
 ],
 "metadata": {
  "kernelspec": {
   "display_name": "3350",
   "language": "python",
   "name": "python3"
  },
  "language_info": {
   "codemirror_mode": {
    "name": "ipython",
    "version": 3
   },
   "file_extension": ".py",
   "mimetype": "text/x-python",
   "name": "python",
   "nbconvert_exporter": "python",
   "pygments_lexer": "ipython3",
   "version": "3.11.4"
  }
 },
 "nbformat": 4,
 "nbformat_minor": 2
}
